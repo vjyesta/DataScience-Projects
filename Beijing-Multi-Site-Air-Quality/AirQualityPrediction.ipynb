{
 "cells": [
  {
   "cell_type": "code",
   "execution_count": 1,
   "metadata": {},
   "outputs": [],
   "source": [
    "#Importing all the required libraries\n",
    "import numpy as np\n",
    "import pandas as pd\n",
    "from math import sqrt\n",
    "import matplotlib.pyplot as plt\n",
    "import seaborn as sns\n",
    "from sklearn.preprocessing import LabelEncoder\n",
    "from sklearn.metrics import mean_squared_error,mean_absolute_error\n",
    "from sklearn.model_selection import train_test_split\n",
    "from sklearn.preprocessing import StandardScaler\n",
    "from sklearn.linear_model import SGDRegressor\n"
   ]
  },
  {
   "cell_type": "markdown",
   "metadata": {},
   "source": [
    "# Reading the data"
   ]
  },
  {
   "cell_type": "code",
   "execution_count": 2,
   "metadata": {},
   "outputs": [],
   "source": [
    "#Reading all the datasets\n",
    "df1 = pd.read_csv(\"PRSA_Data_Aotizhongxin_20130301-20170228.csv\")\n",
    "df2 = pd.read_csv(\"PRSA_Data_Changping_20130301-20170228.csv\")\n",
    "df3 = pd.read_csv(\"PRSA_Data_Dingling_20130301-20170228.csv\")\n",
    "df4 = pd.read_csv(\"PRSA_Data_Dongsi_20130301-20170228.csv\")\n",
    "df5 = pd.read_csv(\"PRSA_Data_Guanyuan_20130301-20170228.csv\")\n",
    "df6 = pd.read_csv(\"PRSA_Data_Gucheng_20130301-20170228.csv\")\n",
    "df7 = pd.read_csv(\"PRSA_Data_Huairou_20130301-20170228.csv\")\n",
    "df8 = pd.read_csv(\"PRSA_Data_Nongzhanguan_20130301-20170228.csv\")\n",
    "df9 = pd.read_csv(\"PRSA_Data_Shunyi_20130301-20170228.csv\")\n",
    "df10 = pd.read_csv(\"PRSA_Data_Tiantan_20130301-20170228.csv\")\n",
    "df11 = pd.read_csv(\"PRSA_Data_Wanliu_20130301-20170228.csv\")\n",
    "df12 = pd.read_csv(\"PRSA_Data_Wanshouxigong_20130301-20170228.csv\")"
   ]
  },
  {
   "cell_type": "markdown",
   "metadata": {},
   "source": [
    "Merging the datasets:"
   ]
  },
  {
   "cell_type": "code",
   "execution_count": 3,
   "metadata": {},
   "outputs": [],
   "source": [
    "#merging the datasets using concat function\n",
    "df_merged = pd.concat([df1,df2,df3,df4,df5,df6,df7,df8,df9,df10,df11,df12])"
   ]
  },
  {
   "cell_type": "code",
   "execution_count": 4,
   "metadata": {},
   "outputs": [
    {
     "data": {
      "text/html": [
       "<div>\n",
       "<style scoped>\n",
       "    .dataframe tbody tr th:only-of-type {\n",
       "        vertical-align: middle;\n",
       "    }\n",
       "\n",
       "    .dataframe tbody tr th {\n",
       "        vertical-align: top;\n",
       "    }\n",
       "\n",
       "    .dataframe thead th {\n",
       "        text-align: right;\n",
       "    }\n",
       "</style>\n",
       "<table border=\"1\" class=\"dataframe\">\n",
       "  <thead>\n",
       "    <tr style=\"text-align: right;\">\n",
       "      <th></th>\n",
       "      <th>No</th>\n",
       "      <th>year</th>\n",
       "      <th>month</th>\n",
       "      <th>day</th>\n",
       "      <th>hour</th>\n",
       "      <th>PM2.5</th>\n",
       "      <th>PM10</th>\n",
       "      <th>SO2</th>\n",
       "      <th>NO2</th>\n",
       "      <th>CO</th>\n",
       "      <th>O3</th>\n",
       "      <th>TEMP</th>\n",
       "      <th>PRES</th>\n",
       "      <th>DEWP</th>\n",
       "      <th>RAIN</th>\n",
       "      <th>wd</th>\n",
       "      <th>WSPM</th>\n",
       "      <th>station</th>\n",
       "    </tr>\n",
       "  </thead>\n",
       "  <tbody>\n",
       "    <tr>\n",
       "      <th>0</th>\n",
       "      <td>1</td>\n",
       "      <td>2013</td>\n",
       "      <td>3</td>\n",
       "      <td>1</td>\n",
       "      <td>0</td>\n",
       "      <td>4.0</td>\n",
       "      <td>4.0</td>\n",
       "      <td>4.0</td>\n",
       "      <td>7.0</td>\n",
       "      <td>300.0</td>\n",
       "      <td>77.0</td>\n",
       "      <td>-0.7</td>\n",
       "      <td>1023.0</td>\n",
       "      <td>-18.8</td>\n",
       "      <td>0.0</td>\n",
       "      <td>NNW</td>\n",
       "      <td>4.4</td>\n",
       "      <td>Aotizhongxin</td>\n",
       "    </tr>\n",
       "    <tr>\n",
       "      <th>1</th>\n",
       "      <td>2</td>\n",
       "      <td>2013</td>\n",
       "      <td>3</td>\n",
       "      <td>1</td>\n",
       "      <td>1</td>\n",
       "      <td>8.0</td>\n",
       "      <td>8.0</td>\n",
       "      <td>4.0</td>\n",
       "      <td>7.0</td>\n",
       "      <td>300.0</td>\n",
       "      <td>77.0</td>\n",
       "      <td>-1.1</td>\n",
       "      <td>1023.2</td>\n",
       "      <td>-18.2</td>\n",
       "      <td>0.0</td>\n",
       "      <td>N</td>\n",
       "      <td>4.7</td>\n",
       "      <td>Aotizhongxin</td>\n",
       "    </tr>\n",
       "    <tr>\n",
       "      <th>2</th>\n",
       "      <td>3</td>\n",
       "      <td>2013</td>\n",
       "      <td>3</td>\n",
       "      <td>1</td>\n",
       "      <td>2</td>\n",
       "      <td>7.0</td>\n",
       "      <td>7.0</td>\n",
       "      <td>5.0</td>\n",
       "      <td>10.0</td>\n",
       "      <td>300.0</td>\n",
       "      <td>73.0</td>\n",
       "      <td>-1.1</td>\n",
       "      <td>1023.5</td>\n",
       "      <td>-18.2</td>\n",
       "      <td>0.0</td>\n",
       "      <td>NNW</td>\n",
       "      <td>5.6</td>\n",
       "      <td>Aotizhongxin</td>\n",
       "    </tr>\n",
       "  </tbody>\n",
       "</table>\n",
       "</div>"
      ],
      "text/plain": [
       "   No  year  month  day  hour  PM2.5  PM10  SO2   NO2     CO    O3  TEMP  \\\n",
       "0   1  2013      3    1     0    4.0   4.0  4.0   7.0  300.0  77.0  -0.7   \n",
       "1   2  2013      3    1     1    8.0   8.0  4.0   7.0  300.0  77.0  -1.1   \n",
       "2   3  2013      3    1     2    7.0   7.0  5.0  10.0  300.0  73.0  -1.1   \n",
       "\n",
       "     PRES  DEWP  RAIN   wd  WSPM       station  \n",
       "0  1023.0 -18.8   0.0  NNW   4.4  Aotizhongxin  \n",
       "1  1023.2 -18.2   0.0    N   4.7  Aotizhongxin  \n",
       "2  1023.5 -18.2   0.0  NNW   5.6  Aotizhongxin  "
      ]
     },
     "execution_count": 4,
     "metadata": {},
     "output_type": "execute_result"
    }
   ],
   "source": [
    "df_merged.head(3)"
   ]
  },
  {
   "cell_type": "code",
   "execution_count": 5,
   "metadata": {},
   "outputs": [],
   "source": [
    "df_merged = df_merged.sample(frac = 0.10)"
   ]
  },
  {
   "cell_type": "code",
   "execution_count": 6,
   "metadata": {},
   "outputs": [],
   "source": [
    "df_merged = df_merged.rename(columns = {\"TEMP\":\"temp\",\"PRES\":\"pres\",\"DEWP\":\"dew_point_temp\",\"RAIN\":\"rain\",\"wd\":\"wind_direction\",\"WSPM\":\"wind_speed\"})"
   ]
  },
  {
   "cell_type": "code",
   "execution_count": 7,
   "metadata": {},
   "outputs": [],
   "source": [
    "#converting to categorical variables\n",
    "df_merged.year = df_merged.year.astype('category')\n",
    "df_merged.month = df_merged.month.astype('category')\n",
    "df_merged.day = df_merged.day.astype('category')\n",
    "df_merged.hour = df_merged.hour.astype('category')\n",
    "df_merged.wind_direction = df_merged.wind_direction.astype('category')\n",
    "df_merged.station = df_merged.station.astype('category')"
   ]
  },
  {
   "cell_type": "markdown",
   "metadata": {},
   "source": [
    "# Checking for null values"
   ]
  },
  {
   "cell_type": "code",
   "execution_count": 8,
   "metadata": {},
   "outputs": [],
   "source": [
    "#dropping unnecessary column\n",
    "df_merged = df_merged.drop('No',axis=1)"
   ]
  },
  {
   "cell_type": "code",
   "execution_count": 9,
   "metadata": {},
   "outputs": [
    {
     "data": {
      "text/plain": [
       "year                 0\n",
       "month                0\n",
       "day                  0\n",
       "hour                 0\n",
       "PM2.5              895\n",
       "PM10               682\n",
       "SO2                936\n",
       "NO2               1206\n",
       "CO                2103\n",
       "O3                1330\n",
       "temp                48\n",
       "pres                48\n",
       "dew_point_temp      48\n",
       "rain                46\n",
       "wind_direction     185\n",
       "wind_speed          39\n",
       "station              0\n",
       "dtype: int64"
      ]
     },
     "execution_count": 9,
     "metadata": {},
     "output_type": "execute_result"
    }
   ],
   "source": [
    "df_merged.isnull().sum()"
   ]
  },
  {
   "cell_type": "code",
   "execution_count": 10,
   "metadata": {},
   "outputs": [],
   "source": [
    "df_merged = df_merged.dropna()"
   ]
  },
  {
   "cell_type": "markdown",
   "metadata": {},
   "source": [
    "Dropping NAN values as they constitute to less than 10% of the dataset and we can afford losing them when we compare to our dataset size. "
   ]
  },
  {
   "cell_type": "markdown",
   "metadata": {},
   "source": [
    "# 1"
   ]
  },
  {
   "cell_type": "code",
   "execution_count": 11,
   "metadata": {},
   "outputs": [
    {
     "data": {
      "image/png": "[encoded data removed]",
      "text/plain": [
       "<Figure size 1080x1440 with 2 Axes>"
      ]
     },
     "metadata": {
      "needs_background": "light"
     },
     "output_type": "display_data"
    }
   ],
   "source": [
    "#checking the relation between independent variables\n",
    "plt.figure(figsize=(15, 20))\n",
    "plt.title('Correlation Matrix')\n",
    "sns.heatmap(df_merged.corr(), annot=True, linewidth = 0.75)\n",
    "plt.show()"
   ]
  },
  {
   "cell_type": "markdown",
   "metadata": {},
   "source": [
    "Temp is highly correlated with pres and dew_point_temp as the correlation coefficient is more than 0.8."
   ]
  },
  {
   "cell_type": "code",
   "execution_count": 12,
   "metadata": {},
   "outputs": [],
   "source": [
    "df_merged.drop(columns = ['temp'],inplace = True)"
   ]
  },
  {
   "cell_type": "markdown",
   "metadata": {},
   "source": [
    "Removing the highly correlated variable as the correlation was more than 0.8"
   ]
  },
  {
   "cell_type": "code",
   "execution_count": 13,
   "metadata": {},
   "outputs": [
    {
     "name": "stdout",
     "output_type": "stream",
     "text": [
      "89.0\n",
      "(1896, 16)\n"
     ]
    },
    {
     "data": {
      "text/plain": [
       "(36351, 16)"
      ]
     },
     "execution_count": 13,
     "metadata": {},
     "output_type": "execute_result"
    }
   ],
   "source": [
    "Q1=df_merged['PM2.5'].quantile(0.25)\n",
    "Q3=df_merged['PM2.5'].quantile(0.75)\n",
    "IQR=Q3-Q1\n",
    "print(IQR)\n",
    "df_out=pd.DataFrame()\n",
    "df_out=df_merged[(df_merged['PM2.5']<(Q1-1.5*IQR))|(df_merged['PM2.5']>(Q3+1.5*IQR))]\n",
    "print(df_out.shape)\n",
    "df_merged=df_merged[~((df_merged['PM2.5']<(Q1-1.5*IQR))|(df_merged['PM2.5']>(Q3+1.5*IQR)))]\n",
    "df_merged.shape"
   ]
  },
  {
   "cell_type": "code",
   "execution_count": 14,
   "metadata": {},
   "outputs": [
    {
     "data": {
      "text/plain": [
       "Index(['year', 'month', 'day', 'hour', 'PM2.5', 'PM10', 'SO2', 'NO2', 'CO',\n",
       "       'O3', 'pres', 'dew_point_temp', 'rain', 'wind_direction', 'wind_speed',\n",
       "       'station'],\n",
       "      dtype='object')"
      ]
     },
     "execution_count": 14,
     "metadata": {},
     "output_type": "execute_result"
    }
   ],
   "source": [
    "df_merged.columns"
   ]
  },
  {
   "cell_type": "code",
   "execution_count": 15,
   "metadata": {},
   "outputs": [],
   "source": [
    "#reindexing to make sure PM2.5 is the last column\n",
    "df_merged = df_merged.reindex(columns = ['year', 'month', 'day', 'hour','PM10', 'SO2', 'NO2', 'CO',\n",
    "       'O3', 'pres', 'dew_point_temp', 'rain', 'wind_direction',\n",
    "       'wind_speed', 'station', 'PM2.5'])"
   ]
  },
  {
   "cell_type": "markdown",
   "metadata": {},
   "source": [
    "# Splitting the dataset into train and test sets"
   ]
  },
  {
   "cell_type": "code",
   "execution_count": 16,
   "metadata": {},
   "outputs": [],
   "source": [
    "#splitting into train and test sets\n",
    "X_train, X_test, y_train, y_test = train_test_split(df_merged.iloc[:,0:15], df_merged.iloc[:,-1],stratify = df_merged['station'], test_size=0.3, shuffle = True)"
   ]
  },
  {
   "cell_type": "code",
   "execution_count": 17,
   "metadata": {},
   "outputs": [
    {
     "name": "stdout",
     "output_type": "stream",
     "text": [
      "Changping        0.087480\n",
      "Tiantan          0.086573\n",
      "Gucheng          0.084674\n",
      "Guanyuan         0.084674\n",
      "Nongzhanguan     0.084234\n",
      "Wanshouxigong    0.084179\n",
      "Aotizhongxin     0.084042\n",
      "Huairou          0.083629\n",
      "Dingling         0.082226\n",
      "Shunyi           0.080025\n",
      "Wanliu           0.079805\n",
      "Dongsi           0.078457\n",
      "Name: station, dtype: float64\n",
      "Changping        0.087483\n",
      "Tiantan          0.086579\n",
      "Gucheng          0.084692\n",
      "Guanyuan         0.084692\n",
      "Nongzhanguan     0.084221\n",
      "Wanshouxigong    0.084182\n",
      "Aotizhongxin     0.084024\n",
      "Huairou          0.083631\n",
      "Dingling         0.082217\n",
      "Shunyi           0.080016\n",
      "Wanliu           0.079819\n",
      "Dongsi           0.078444\n",
      "Name: station, dtype: float64\n",
      "Changping        0.087475\n",
      "Tiantan          0.086558\n",
      "Gucheng          0.084632\n",
      "Guanyuan         0.084632\n",
      "Nongzhanguan     0.084266\n",
      "Wanshouxigong    0.084174\n",
      "Aotizhongxin     0.084082\n",
      "Huairou          0.083624\n",
      "Dingling         0.082248\n",
      "Shunyi           0.080048\n",
      "Wanliu           0.079773\n",
      "Dongsi           0.078489\n",
      "Name: station, dtype: float64\n"
     ]
    }
   ],
   "source": [
    "#checking the split\n",
    "print(df_merged[\"station\"].value_counts()/len(df_merged))\n",
    "print(X_train[\"station\"].value_counts()/len(X_train))\n",
    "print(X_test[\"station\"].value_counts()/len(X_test))"
   ]
  },
  {
   "cell_type": "code",
   "execution_count": 18,
   "metadata": {},
   "outputs": [
    {
     "data": {
      "text/plain": [
       "year              category\n",
       "month             category\n",
       "day               category\n",
       "hour              category\n",
       "PM10               float64\n",
       "SO2                float64\n",
       "NO2                float64\n",
       "CO                 float64\n",
       "O3                 float64\n",
       "pres               float64\n",
       "dew_point_temp     float64\n",
       "rain               float64\n",
       "wind_direction    category\n",
       "wind_speed         float64\n",
       "station           category\n",
       "dtype: object"
      ]
     },
     "execution_count": 18,
     "metadata": {},
     "output_type": "execute_result"
    }
   ],
   "source": [
    "X_train.dtypes"
   ]
  },
  {
   "cell_type": "code",
   "execution_count": 19,
   "metadata": {},
   "outputs": [],
   "source": [
    "#encoding all the categorical variables:\n",
    "le = LabelEncoder()\n",
    "\n",
    "#Train set scaling\n",
    "X_train[\"station\"] = le.fit_transform(X_train[\"station\"])\n",
    "X_test[\"station\"]= le.transform(X_test[\"station\"])\n",
    "\n",
    "X_train[\"year\"] = le.fit_transform(X_train[\"year\"])\n",
    "X_test[\"year\"]= le.transform(X_test[\"year\"])\n",
    "\n",
    "X_train[\"month\"] = le.fit_transform(X_train[\"month\"])\n",
    "X_test[\"month\"]= le.transform(X_test[\"month\"])\n",
    "\n",
    "X_train[\"day\"] = le.fit_transform(X_train[\"day\"])\n",
    "X_test[\"day\"]= le.transform(X_test[\"day\"])\n",
    "\n",
    "X_train[\"hour\"] = le.fit_transform(X_train[\"hour\"])\n",
    "X_test[\"hour\"]= le.transform(X_test[\"hour\"])\n",
    "\n",
    "\n",
    "X_train[\"wind_direction\"] = le.fit_transform(X_train[\"wind_direction\"])\n",
    "X_test[\"wind_direction\"]= le.transform(X_test[\"wind_direction\"])\n",
    "\n"
   ]
  },
  {
   "cell_type": "markdown",
   "metadata": {},
   "source": [
    "Label encoding year, month, day and hour as they are integers but they should be treated as categories in the aspect of this dataset."
   ]
  },
  {
   "cell_type": "code",
   "execution_count": 20,
   "metadata": {},
   "outputs": [
    {
     "data": {
      "text/html": [
       "<div>\n",
       "<style scoped>\n",
       "    .dataframe tbody tr th:only-of-type {\n",
       "        vertical-align: middle;\n",
       "    }\n",
       "\n",
       "    .dataframe tbody tr th {\n",
       "        vertical-align: top;\n",
       "    }\n",
       "\n",
       "    .dataframe thead th {\n",
       "        text-align: right;\n",
       "    }\n",
       "</style>\n",
       "<table border=\"1\" class=\"dataframe\">\n",
       "  <thead>\n",
       "    <tr style=\"text-align: right;\">\n",
       "      <th></th>\n",
       "      <th>year</th>\n",
       "      <th>month</th>\n",
       "      <th>day</th>\n",
       "      <th>hour</th>\n",
       "      <th>PM10</th>\n",
       "      <th>SO2</th>\n",
       "      <th>NO2</th>\n",
       "      <th>CO</th>\n",
       "      <th>O3</th>\n",
       "      <th>pres</th>\n",
       "      <th>dew_point_temp</th>\n",
       "      <th>rain</th>\n",
       "      <th>wind_direction</th>\n",
       "      <th>wind_speed</th>\n",
       "      <th>station</th>\n",
       "    </tr>\n",
       "  </thead>\n",
       "  <tbody>\n",
       "    <tr>\n",
       "      <th>27952</th>\n",
       "      <td>3</td>\n",
       "      <td>4</td>\n",
       "      <td>7</td>\n",
       "      <td>16</td>\n",
       "      <td>111.0</td>\n",
       "      <td>14.0</td>\n",
       "      <td>21.0</td>\n",
       "      <td>700.0</td>\n",
       "      <td>171.0</td>\n",
       "      <td>1001.2</td>\n",
       "      <td>9.1</td>\n",
       "      <td>0.0</td>\n",
       "      <td>11</td>\n",
       "      <td>4.5</td>\n",
       "      <td>5</td>\n",
       "    </tr>\n",
       "    <tr>\n",
       "      <th>18711</th>\n",
       "      <td>2</td>\n",
       "      <td>3</td>\n",
       "      <td>18</td>\n",
       "      <td>15</td>\n",
       "      <td>82.0</td>\n",
       "      <td>2.0</td>\n",
       "      <td>15.0</td>\n",
       "      <td>200.0</td>\n",
       "      <td>109.0</td>\n",
       "      <td>1009.6</td>\n",
       "      <td>-10.6</td>\n",
       "      <td>0.0</td>\n",
       "      <td>15</td>\n",
       "      <td>1.1</td>\n",
       "      <td>4</td>\n",
       "    </tr>\n",
       "    <tr>\n",
       "      <th>24603</th>\n",
       "      <td>2</td>\n",
       "      <td>11</td>\n",
       "      <td>20</td>\n",
       "      <td>3</td>\n",
       "      <td>157.0</td>\n",
       "      <td>10.0</td>\n",
       "      <td>60.0</td>\n",
       "      <td>3200.0</td>\n",
       "      <td>2.0</td>\n",
       "      <td>1016.8</td>\n",
       "      <td>-7.7</td>\n",
       "      <td>0.0</td>\n",
       "      <td>6</td>\n",
       "      <td>1.3</td>\n",
       "      <td>2</td>\n",
       "    </tr>\n",
       "  </tbody>\n",
       "</table>\n",
       "</div>"
      ],
      "text/plain": [
       "       year  month  day  hour   PM10   SO2   NO2      CO     O3    pres  \\\n",
       "27952     3      4    7    16  111.0  14.0  21.0   700.0  171.0  1001.2   \n",
       "18711     2      3   18    15   82.0   2.0  15.0   200.0  109.0  1009.6   \n",
       "24603     2     11   20     3  157.0  10.0  60.0  3200.0    2.0  1016.8   \n",
       "\n",
       "       dew_point_temp  rain  wind_direction  wind_speed  station  \n",
       "27952             9.1   0.0              11         4.5        5  \n",
       "18711           -10.6   0.0              15         1.1        4  \n",
       "24603            -7.7   0.0               6         1.3        2  "
      ]
     },
     "execution_count": 20,
     "metadata": {},
     "output_type": "execute_result"
    }
   ],
   "source": [
    "#checking the train set\n",
    "X_train.head(3)"
   ]
  },
  {
   "cell_type": "code",
   "execution_count": 21,
   "metadata": {},
   "outputs": [
    {
     "data": {
      "text/html": [
       "<div>\n",
       "<style scoped>\n",
       "    .dataframe tbody tr th:only-of-type {\n",
       "        vertical-align: middle;\n",
       "    }\n",
       "\n",
       "    .dataframe tbody tr th {\n",
       "        vertical-align: top;\n",
       "    }\n",
       "\n",
       "    .dataframe thead th {\n",
       "        text-align: right;\n",
       "    }\n",
       "</style>\n",
       "<table border=\"1\" class=\"dataframe\">\n",
       "  <thead>\n",
       "    <tr style=\"text-align: right;\">\n",
       "      <th></th>\n",
       "      <th>year</th>\n",
       "      <th>month</th>\n",
       "      <th>day</th>\n",
       "      <th>hour</th>\n",
       "      <th>PM10</th>\n",
       "      <th>SO2</th>\n",
       "      <th>NO2</th>\n",
       "      <th>CO</th>\n",
       "      <th>O3</th>\n",
       "      <th>pres</th>\n",
       "      <th>dew_point_temp</th>\n",
       "      <th>rain</th>\n",
       "      <th>wind_direction</th>\n",
       "      <th>wind_speed</th>\n",
       "      <th>station</th>\n",
       "    </tr>\n",
       "  </thead>\n",
       "  <tbody>\n",
       "    <tr>\n",
       "      <th>33349</th>\n",
       "      <td>3</td>\n",
       "      <td>11</td>\n",
       "      <td>18</td>\n",
       "      <td>13</td>\n",
       "      <td>194.0</td>\n",
       "      <td>43.0</td>\n",
       "      <td>102.0</td>\n",
       "      <td>3400.0</td>\n",
       "      <td>13.0</td>\n",
       "      <td>1019.7</td>\n",
       "      <td>-5.8</td>\n",
       "      <td>0.0</td>\n",
       "      <td>10</td>\n",
       "      <td>0.5</td>\n",
       "      <td>3</td>\n",
       "    </tr>\n",
       "    <tr>\n",
       "      <th>23423</th>\n",
       "      <td>2</td>\n",
       "      <td>10</td>\n",
       "      <td>0</td>\n",
       "      <td>23</td>\n",
       "      <td>154.0</td>\n",
       "      <td>6.0</td>\n",
       "      <td>104.0</td>\n",
       "      <td>1800.0</td>\n",
       "      <td>2.0</td>\n",
       "      <td>1017.3</td>\n",
       "      <td>2.4</td>\n",
       "      <td>0.0</td>\n",
       "      <td>1</td>\n",
       "      <td>0.7</td>\n",
       "      <td>4</td>\n",
       "    </tr>\n",
       "    <tr>\n",
       "      <th>17235</th>\n",
       "      <td>2</td>\n",
       "      <td>1</td>\n",
       "      <td>16</td>\n",
       "      <td>3</td>\n",
       "      <td>17.0</td>\n",
       "      <td>11.0</td>\n",
       "      <td>22.0</td>\n",
       "      <td>400.0</td>\n",
       "      <td>62.0</td>\n",
       "      <td>1019.0</td>\n",
       "      <td>-11.0</td>\n",
       "      <td>0.0</td>\n",
       "      <td>1</td>\n",
       "      <td>1.3</td>\n",
       "      <td>9</td>\n",
       "    </tr>\n",
       "  </tbody>\n",
       "</table>\n",
       "</div>"
      ],
      "text/plain": [
       "       year  month  day  hour   PM10   SO2    NO2      CO    O3    pres  \\\n",
       "33349     3     11   18    13  194.0  43.0  102.0  3400.0  13.0  1019.7   \n",
       "23423     2     10    0    23  154.0   6.0  104.0  1800.0   2.0  1017.3   \n",
       "17235     2      1   16     3   17.0  11.0   22.0   400.0  62.0  1019.0   \n",
       "\n",
       "       dew_point_temp  rain  wind_direction  wind_speed  station  \n",
       "33349            -5.8   0.0              10         0.5        3  \n",
       "23423             2.4   0.0               1         0.7        4  \n",
       "17235           -11.0   0.0               1         1.3        9  "
      ]
     },
     "execution_count": 21,
     "metadata": {},
     "output_type": "execute_result"
    }
   ],
   "source": [
    "#checking the test set\n",
    "X_test.head(3)"
   ]
  },
  {
   "cell_type": "code",
   "execution_count": 22,
   "metadata": {},
   "outputs": [],
   "source": [
    "#Scaling the features\n",
    "\n",
    "\n",
    "X_train_cat = X_train[['year','month','day','hour','wind_direction','station']]\n",
    "X_test_cat = X_test[['year','month','day','hour','wind_direction','station']]\n",
    "\n",
    "scaler = StandardScaler()\n",
    "standardized_numeric_data = scaler.fit_transform(X_train.drop(columns=['year','month','day','hour','wind_direction','station']))\n",
    "X_train_final = np.concatenate((standardized_numeric_data,np.array(X_train_cat)),axis=1)\n",
    "standardized_numeric_data = scaler.transform(X_test.drop(columns=['year','month','day','hour','wind_direction','station']))\n",
    "X_test_final = np.concatenate((standardized_numeric_data,np.array(X_test_cat)),axis=1)\n",
    "\n"
   ]
  },
  {
   "cell_type": "markdown",
   "metadata": {},
   "source": [
    "# Modelling"
   ]
  },
  {
   "cell_type": "code",
   "execution_count": 23,
   "metadata": {},
   "outputs": [
    {
     "data": {
      "text/plain": [
       "SGDRegressor(max_iter=5000, random_state=42)"
      ]
     },
     "execution_count": 23,
     "metadata": {},
     "output_type": "execute_result"
    }
   ],
   "source": [
    "#model fitting\n",
    "sgd = SGDRegressor(max_iter = 5000,random_state = 42)\n",
    "sgd.fit(X_train_final,y_train)"
   ]
  },
  {
   "cell_type": "code",
   "execution_count": 24,
   "metadata": {},
   "outputs": [
    {
     "name": "stdout",
     "output_type": "stream",
     "text": [
      "Root mean squared error is 27.988105245820044\n"
     ]
    }
   ],
   "source": [
    "y_predict = sgd.predict(X_test_final)\n",
    "rmse = sqrt(mean_squared_error(y_test,y_predict))\n",
    "print('Root mean squared error is',rmse)"
   ]
  },
  {
   "cell_type": "code",
   "execution_count": 59,
   "metadata": {},
   "outputs": [
    {
     "data": {
      "text/plain": [
       "19.851602741576464"
      ]
     },
     "execution_count": 59,
     "metadata": {},
     "output_type": "execute_result"
    }
   ],
   "source": [
    "mae = mean_absolute_error(y_test,y_predict)\n",
    "mae"
   ]
  },
  {
   "cell_type": "markdown",
   "metadata": {},
   "source": [
    "Choosing RMSE for regression problems is reasonable as we get the picture of error between the target and predicted values. RMSE is better than MSE and MAE because it penalizes more on large errors"
   ]
  },
  {
   "cell_type": "code",
   "execution_count": 61,
   "metadata": {},
   "outputs": [
    {
     "data": {
      "text/plain": [
       "GridSearchCV(cv=5, estimator=SGDRegressor(max_iter=5000, random_state=42),\n",
       "             param_grid=[{'alpha': [1e-08, 1e-06, 1e-05, 0.0001, 0.001, 0.01,\n",
       "                                    0.1, 0.2, 0.3],\n",
       "                          'loss': ['squared_loss', 'huber'],\n",
       "                          'max_iter': [1000, 5000, 10000, 15000, 20000]}],\n",
       "             scoring='neg_mean_squared_error')"
      ]
     },
     "execution_count": 61,
     "metadata": {},
     "output_type": "execute_result"
    }
   ],
   "source": [
    "from sklearn.model_selection import GridSearchCV\n",
    "param_grid = [{'alpha':[0.00000001,0.000001,.00001,0.0001,0.001,0.01,0.1,0.2,0.3],'loss': ['squared_loss','huber'],'max_iter': [1000,5000,10000,15000,20000],\n",
    "               }]\n",
    "grid_search = GridSearchCV(sgd,param_grid,cv=5,scoring = 'neg_mean_squared_error')\n",
    "grid_search.fit(X_train_final,y_train)"
   ]
  },
  {
   "cell_type": "code",
   "execution_count": 62,
   "metadata": {},
   "outputs": [
    {
     "data": {
      "text/plain": [
       "{'alpha': 0.1, 'loss': 'squared_loss', 'max_iter': 1000}"
      ]
     },
     "execution_count": 62,
     "metadata": {},
     "output_type": "execute_result"
    }
   ],
   "source": [
    "grid_search.best_params_"
   ]
  },
  {
   "cell_type": "code",
   "execution_count": 67,
   "metadata": {},
   "outputs": [
    {
     "name": "stdout",
     "output_type": "stream",
     "text": [
      "mean squared error is 27.462847644711346\n"
     ]
    }
   ],
   "source": [
    "sgd = SGDRegressor(alpha=0.1,loss = 'squared_loss',max_iter = 1000)\n",
    "sgd.fit(X_train_final,y_train)\n",
    "from math import sqrt\n",
    "y_predict = sgd.predict(X_test_final)\n",
    "from sklearn.metrics import mean_squared_error\n",
    "rmse = sqrt(mean_squared_error(y_test,y_predict))\n",
    "print('mean squared error is',rmse)"
   ]
  },
  {
   "cell_type": "markdown",
   "metadata": {},
   "source": [
    "In hyper parameter tuning, I have given multiple values for alpha,loss function and learning rate. We can tweak these values to get the optimal parameters for our model.\n",
    "\n",
    "After doing the grid search, rmse got decrease to 27.96 from 27.46. It seems like insignificant but we did this only on the 10% of the dataset, For the whole dataset, it will be more significant and yield a better value."
   ]
  }
 ],
 "metadata": {
  "kernelspec": {
   "display_name": "Python 3",
   "language": "python",
   "name": "python3"
  },
  "language_info": {
   "codemirror_mode": {
    "name": "ipython",
    "version": 3
   },
   "file_extension": ".py",
   "mimetype": "text/x-python",
   "name": "python",
   "nbconvert_exporter": "python",
   "pygments_lexer": "ipython3",
   "version": "3.8.3"
  }
 },
 "nbformat": 4,
 "nbformat_minor": 4
}
