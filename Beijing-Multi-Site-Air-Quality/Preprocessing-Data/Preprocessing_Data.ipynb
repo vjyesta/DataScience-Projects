{
  "nbformat": 4,
  "nbformat_minor": 0,
  "metadata": {
    "colab": {
      "name": "Preprocessing_Data.ipynb",
      "provenance": [],
      "collapsed_sections": []
    },
    "kernelspec": {
      "name": "python3",
      "display_name": "Python 3"
    }
  },
  "cells": [
    {
      "cell_type": "markdown",
      "metadata": {
        "id": "45bxBpf2Amd3"
      },
      "source": [
        "##Beijing Multi-Site Air-Quality Analysis"
      ]
    },
    {
      "cell_type": "markdown",
      "metadata": {
        "id": "k3o688GvT0Q_"
      },
      "source": [
        "**Importing necessary libraries**"
      ]
    },
    {
      "cell_type": "code",
      "metadata": {
        "id": "FnQ_Ud-DAkHs"
      },
      "source": [
        "import pandas as pd\n",
        "import numpy as np\n",
        "import random\n",
        "from sklearn import preprocessing"
      ],
      "execution_count": 8,
      "outputs": []
    },
    {
      "cell_type": "markdown",
      "metadata": {
        "id": "UcMwmDxMRSIf"
      },
      "source": [
        "**Reading all the csv data as Dataframe using pandas**"
      ]
    },
    {
      "cell_type": "code",
      "metadata": {
        "id": "1dwl3XSuA1xB"
      },
      "source": [
        "df1 = pd.read_csv(\"PRSA_Data_Aotizhongxin_20130301-20170228.csv\")\n",
        "df2 = pd.read_csv(\"PRSA_Data_Changping_20130301-20170228.csv\")\n",
        "df3 = pd.read_csv(\"PRSA_Data_Dingling_20130301-20170228.csv\")\n",
        "df4 = pd.read_csv(\"PRSA_Data_Dongsi_20130301-20170228.csv\")\n",
        "df5 = pd.read_csv(\"PRSA_Data_Guanyuan_20130301-20170228.csv\")\n",
        "df6 = pd.read_csv(\"PRSA_Data_Gucheng_20130301-20170228.csv\")\n",
        "df7 = pd.read_csv(\"PRSA_Data_Huairou_20130301-20170228.csv\")\n",
        "df8 = pd.read_csv(\"PRSA_Data_Nongzhanguan_20130301-20170228.csv\")\n",
        "df9 = pd.read_csv(\"PRSA_Data_Shunyi_20130301-20170228.csv\")\n",
        "df10 = pd.read_csv(\"PRSA_Data_Tiantan_20130301-20170228.csv\")\n",
        "df11 = pd.read_csv(\"PRSA_Data_Wanliu_20130301-20170228.csv\")\n",
        "df12 = pd.read_csv(\"PRSA_Data_Wanshouxigong_20130301-20170228.csv\")"
      ],
      "execution_count": 9,
      "outputs": []
    },
    {
      "cell_type": "markdown",
      "metadata": {
        "id": "VAFeDkKERUbl"
      },
      "source": [
        "**Merging all the dataframes into single dataframe** "
      ]
    },
    {
      "cell_type": "code",
      "metadata": {
        "id": "uG7729ROBd-Z"
      },
      "source": [
        "frames = [df1, df2, df3,df4, df5, df6,df7, df8, df9,df10,df11, df12]\n",
        "data = pd.concat(frames)"
      ],
      "execution_count": 10,
      "outputs": []
    },
    {
      "cell_type": "markdown",
      "metadata": {
        "id": "gPyddipbReBb"
      },
      "source": [
        "**Using info() function to know a concise summary of a DataFrame**"
      ]
    },
    {
      "cell_type": "code",
      "metadata": {
        "id": "fB1Zyu_yIWfM",
        "outputId": "3a19af78-3c9f-4d69-a503-18a5e5d31123",
        "colab": {
          "base_uri": "https://localhost:8080/",
          "height": 442
        }
      },
      "source": [
        "data.info()"
      ],
      "execution_count": 12,
      "outputs": [
        {
          "output_type": "stream",
          "text": [
            "<class 'pandas.core.frame.DataFrame'>\n",
            "Int64Index: 420768 entries, 0 to 35063\n",
            "Data columns (total 18 columns):\n",
            " #   Column   Non-Null Count   Dtype  \n",
            "---  ------   --------------   -----  \n",
            " 0   No       420768 non-null  int64  \n",
            " 1   year     420768 non-null  int64  \n",
            " 2   month    420768 non-null  int64  \n",
            " 3   day      420768 non-null  int64  \n",
            " 4   hour     420768 non-null  int64  \n",
            " 5   PM2.5    412029 non-null  float64\n",
            " 6   PM10     414319 non-null  float64\n",
            " 7   SO2      411747 non-null  float64\n",
            " 8   NO2      408652 non-null  float64\n",
            " 9   CO       400067 non-null  float64\n",
            " 10  O3       407491 non-null  float64\n",
            " 11  TEMP     420370 non-null  float64\n",
            " 12  PRES     420375 non-null  float64\n",
            " 13  DEWP     420365 non-null  float64\n",
            " 14  RAIN     420378 non-null  float64\n",
            " 15  wd       418946 non-null  object \n",
            " 16  WSPM     420450 non-null  float64\n",
            " 17  station  420768 non-null  object \n",
            "dtypes: float64(11), int64(5), object(2)\n",
            "memory usage: 61.0+ MB\n"
          ],
          "name": "stdout"
        }
      ]
    },
    {
      "cell_type": "markdown",
      "metadata": {
        "id": "TGunzthVRtlc"
      },
      "source": [
        "**Identifying the data types of all the columns in the dataframe**"
      ]
    },
    {
      "cell_type": "code",
      "metadata": {
        "id": "FYYRX6b4QeWL",
        "outputId": "c9e7ac44-614d-4771-d0df-edf859bf50c2",
        "colab": {
          "base_uri": "https://localhost:8080/",
          "height": 340
        }
      },
      "source": [
        "data.dtypes"
      ],
      "execution_count": 13,
      "outputs": [
        {
          "output_type": "execute_result",
          "data": {
            "text/plain": [
              "No           int64\n",
              "year         int64\n",
              "month        int64\n",
              "day          int64\n",
              "hour         int64\n",
              "PM2.5      float64\n",
              "PM10       float64\n",
              "SO2        float64\n",
              "NO2        float64\n",
              "CO         float64\n",
              "O3         float64\n",
              "TEMP       float64\n",
              "PRES       float64\n",
              "DEWP       float64\n",
              "RAIN       float64\n",
              "wd          object\n",
              "WSPM       float64\n",
              "station     object\n",
              "dtype: object"
            ]
          },
          "metadata": {
            "tags": []
          },
          "execution_count": 13
        }
      ]
    },
    {
      "cell_type": "markdown",
      "metadata": {
        "id": "tyeGkXz3Rxzf"
      },
      "source": [
        "**Using describe function**\n",
        "\n",
        "**The describe() function in pandas is very handy in getting various summary statistics.This function returns the count, mean, standard deviation, minimum and maximum values and the quantiles of the data**"
      ]
    },
    {
      "cell_type": "code",
      "metadata": {
        "id": "S0HGIVFiBm-N",
        "outputId": "27a36e4a-ba20-4048-80b3-f687584e4bd5",
        "colab": {
          "base_uri": "https://localhost:8080/",
          "height": 317
        }
      },
      "source": [
        "data.describe()"
      ],
      "execution_count": 14,
      "outputs": [
        {
          "output_type": "execute_result",
          "data": {
            "text/html": [
              "<div>\n",
              "<style scoped>\n",
              "    .dataframe tbody tr th:only-of-type {\n",
              "        vertical-align: middle;\n",
              "    }\n",
              "\n",
              "    .dataframe tbody tr th {\n",
              "        vertical-align: top;\n",
              "    }\n",
              "\n",
              "    .dataframe thead th {\n",
              "        text-align: right;\n",
              "    }\n",
              "</style>\n",
              "<table border=\"1\" class=\"dataframe\">\n",
              "  <thead>\n",
              "    <tr style=\"text-align: right;\">\n",
              "      <th></th>\n",
              "      <th>No</th>\n",
              "      <th>year</th>\n",
              "      <th>month</th>\n",
              "      <th>day</th>\n",
              "      <th>hour</th>\n",
              "      <th>PM2.5</th>\n",
              "      <th>PM10</th>\n",
              "      <th>SO2</th>\n",
              "      <th>NO2</th>\n",
              "      <th>CO</th>\n",
              "      <th>O3</th>\n",
              "      <th>TEMP</th>\n",
              "      <th>PRES</th>\n",
              "      <th>DEWP</th>\n",
              "      <th>RAIN</th>\n",
              "      <th>WSPM</th>\n",
              "    </tr>\n",
              "  </thead>\n",
              "  <tbody>\n",
              "    <tr>\n",
              "      <th>count</th>\n",
              "      <td>420768.000000</td>\n",
              "      <td>420768.000000</td>\n",
              "      <td>420768.000000</td>\n",
              "      <td>420768.000000</td>\n",
              "      <td>420768.000000</td>\n",
              "      <td>412029.000000</td>\n",
              "      <td>414319.000000</td>\n",
              "      <td>411747.000000</td>\n",
              "      <td>408652.000000</td>\n",
              "      <td>400067.000000</td>\n",
              "      <td>407491.000000</td>\n",
              "      <td>420370.000000</td>\n",
              "      <td>420375.000000</td>\n",
              "      <td>420365.000000</td>\n",
              "      <td>420378.000000</td>\n",
              "      <td>420450.000000</td>\n",
              "    </tr>\n",
              "    <tr>\n",
              "      <th>mean</th>\n",
              "      <td>17532.500000</td>\n",
              "      <td>2014.662560</td>\n",
              "      <td>6.522930</td>\n",
              "      <td>15.729637</td>\n",
              "      <td>11.500000</td>\n",
              "      <td>79.793428</td>\n",
              "      <td>104.602618</td>\n",
              "      <td>15.830835</td>\n",
              "      <td>50.638586</td>\n",
              "      <td>1230.766454</td>\n",
              "      <td>57.372271</td>\n",
              "      <td>13.538976</td>\n",
              "      <td>1010.746982</td>\n",
              "      <td>2.490822</td>\n",
              "      <td>0.064476</td>\n",
              "      <td>1.729711</td>\n",
              "    </tr>\n",
              "    <tr>\n",
              "      <th>std</th>\n",
              "      <td>10122.116943</td>\n",
              "      <td>1.177198</td>\n",
              "      <td>3.448707</td>\n",
              "      <td>8.800102</td>\n",
              "      <td>6.922195</td>\n",
              "      <td>80.822391</td>\n",
              "      <td>91.772426</td>\n",
              "      <td>21.650603</td>\n",
              "      <td>35.127912</td>\n",
              "      <td>1160.182716</td>\n",
              "      <td>56.661607</td>\n",
              "      <td>11.436139</td>\n",
              "      <td>10.474055</td>\n",
              "      <td>13.793847</td>\n",
              "      <td>0.821004</td>\n",
              "      <td>1.246386</td>\n",
              "    </tr>\n",
              "    <tr>\n",
              "      <th>min</th>\n",
              "      <td>1.000000</td>\n",
              "      <td>2013.000000</td>\n",
              "      <td>1.000000</td>\n",
              "      <td>1.000000</td>\n",
              "      <td>0.000000</td>\n",
              "      <td>2.000000</td>\n",
              "      <td>2.000000</td>\n",
              "      <td>0.285600</td>\n",
              "      <td>1.026500</td>\n",
              "      <td>100.000000</td>\n",
              "      <td>0.214200</td>\n",
              "      <td>-19.900000</td>\n",
              "      <td>982.400000</td>\n",
              "      <td>-43.400000</td>\n",
              "      <td>0.000000</td>\n",
              "      <td>0.000000</td>\n",
              "    </tr>\n",
              "    <tr>\n",
              "      <th>25%</th>\n",
              "      <td>8766.750000</td>\n",
              "      <td>2014.000000</td>\n",
              "      <td>4.000000</td>\n",
              "      <td>8.000000</td>\n",
              "      <td>5.750000</td>\n",
              "      <td>20.000000</td>\n",
              "      <td>36.000000</td>\n",
              "      <td>3.000000</td>\n",
              "      <td>23.000000</td>\n",
              "      <td>500.000000</td>\n",
              "      <td>11.000000</td>\n",
              "      <td>3.100000</td>\n",
              "      <td>1002.300000</td>\n",
              "      <td>-8.900000</td>\n",
              "      <td>0.000000</td>\n",
              "      <td>0.900000</td>\n",
              "    </tr>\n",
              "    <tr>\n",
              "      <th>50%</th>\n",
              "      <td>17532.500000</td>\n",
              "      <td>2015.000000</td>\n",
              "      <td>7.000000</td>\n",
              "      <td>16.000000</td>\n",
              "      <td>11.500000</td>\n",
              "      <td>55.000000</td>\n",
              "      <td>82.000000</td>\n",
              "      <td>7.000000</td>\n",
              "      <td>43.000000</td>\n",
              "      <td>900.000000</td>\n",
              "      <td>45.000000</td>\n",
              "      <td>14.500000</td>\n",
              "      <td>1010.400000</td>\n",
              "      <td>3.100000</td>\n",
              "      <td>0.000000</td>\n",
              "      <td>1.400000</td>\n",
              "    </tr>\n",
              "    <tr>\n",
              "      <th>75%</th>\n",
              "      <td>26298.250000</td>\n",
              "      <td>2016.000000</td>\n",
              "      <td>10.000000</td>\n",
              "      <td>23.000000</td>\n",
              "      <td>17.250000</td>\n",
              "      <td>111.000000</td>\n",
              "      <td>145.000000</td>\n",
              "      <td>20.000000</td>\n",
              "      <td>71.000000</td>\n",
              "      <td>1500.000000</td>\n",
              "      <td>82.000000</td>\n",
              "      <td>23.300000</td>\n",
              "      <td>1019.000000</td>\n",
              "      <td>15.100000</td>\n",
              "      <td>0.000000</td>\n",
              "      <td>2.200000</td>\n",
              "    </tr>\n",
              "    <tr>\n",
              "      <th>max</th>\n",
              "      <td>35064.000000</td>\n",
              "      <td>2017.000000</td>\n",
              "      <td>12.000000</td>\n",
              "      <td>31.000000</td>\n",
              "      <td>23.000000</td>\n",
              "      <td>999.000000</td>\n",
              "      <td>999.000000</td>\n",
              "      <td>500.000000</td>\n",
              "      <td>290.000000</td>\n",
              "      <td>10000.000000</td>\n",
              "      <td>1071.000000</td>\n",
              "      <td>41.600000</td>\n",
              "      <td>1042.800000</td>\n",
              "      <td>29.100000</td>\n",
              "      <td>72.500000</td>\n",
              "      <td>13.200000</td>\n",
              "    </tr>\n",
              "  </tbody>\n",
              "</table>\n",
              "</div>"
            ],
            "text/plain": [
              "                  No           year  ...           RAIN           WSPM\n",
              "count  420768.000000  420768.000000  ...  420378.000000  420450.000000\n",
              "mean    17532.500000    2014.662560  ...       0.064476       1.729711\n",
              "std     10122.116943       1.177198  ...       0.821004       1.246386\n",
              "min         1.000000    2013.000000  ...       0.000000       0.000000\n",
              "25%      8766.750000    2014.000000  ...       0.000000       0.900000\n",
              "50%     17532.500000    2015.000000  ...       0.000000       1.400000\n",
              "75%     26298.250000    2016.000000  ...       0.000000       2.200000\n",
              "max     35064.000000    2017.000000  ...      72.500000      13.200000\n",
              "\n",
              "[8 rows x 16 columns]"
            ]
          },
          "metadata": {
            "tags": []
          },
          "execution_count": 14
        }
      ]
    },
    {
      "cell_type": "markdown",
      "metadata": {
        "id": "l7V7fB8dTHS9"
      },
      "source": [
        "**Using head function, identifying the first rows of the data frame**"
      ]
    },
    {
      "cell_type": "code",
      "metadata": {
        "id": "p1nEfIKcCEZt",
        "outputId": "e6bd1600-a5b0-416a-ea5e-d26cca46b5ce",
        "colab": {
          "base_uri": "https://localhost:8080/",
          "height": 204
        }
      },
      "source": [
        "data.head()"
      ],
      "execution_count": null,
      "outputs": [
        {
          "output_type": "execute_result",
          "data": {
            "text/html": [
              "<div>\n",
              "<style scoped>\n",
              "    .dataframe tbody tr th:only-of-type {\n",
              "        vertical-align: middle;\n",
              "    }\n",
              "\n",
              "    .dataframe tbody tr th {\n",
              "        vertical-align: top;\n",
              "    }\n",
              "\n",
              "    .dataframe thead th {\n",
              "        text-align: right;\n",
              "    }\n",
              "</style>\n",
              "<table border=\"1\" class=\"dataframe\">\n",
              "  <thead>\n",
              "    <tr style=\"text-align: right;\">\n",
              "      <th></th>\n",
              "      <th>No</th>\n",
              "      <th>year</th>\n",
              "      <th>month</th>\n",
              "      <th>day</th>\n",
              "      <th>hour</th>\n",
              "      <th>PM2.5</th>\n",
              "      <th>PM10</th>\n",
              "      <th>SO2</th>\n",
              "      <th>NO2</th>\n",
              "      <th>CO</th>\n",
              "      <th>O3</th>\n",
              "      <th>TEMP</th>\n",
              "      <th>PRES</th>\n",
              "      <th>DEWP</th>\n",
              "      <th>RAIN</th>\n",
              "      <th>wd</th>\n",
              "      <th>WSPM</th>\n",
              "      <th>station</th>\n",
              "    </tr>\n",
              "  </thead>\n",
              "  <tbody>\n",
              "    <tr>\n",
              "      <th>0</th>\n",
              "      <td>1</td>\n",
              "      <td>2013</td>\n",
              "      <td>3</td>\n",
              "      <td>1</td>\n",
              "      <td>0</td>\n",
              "      <td>4.0</td>\n",
              "      <td>4.0</td>\n",
              "      <td>4.0</td>\n",
              "      <td>7.0</td>\n",
              "      <td>300.0</td>\n",
              "      <td>77.0</td>\n",
              "      <td>-0.7</td>\n",
              "      <td>1023.0</td>\n",
              "      <td>-18.8</td>\n",
              "      <td>0.0</td>\n",
              "      <td>NNW</td>\n",
              "      <td>4.4</td>\n",
              "      <td>Aotizhongxin</td>\n",
              "    </tr>\n",
              "    <tr>\n",
              "      <th>1</th>\n",
              "      <td>2</td>\n",
              "      <td>2013</td>\n",
              "      <td>3</td>\n",
              "      <td>1</td>\n",
              "      <td>1</td>\n",
              "      <td>8.0</td>\n",
              "      <td>8.0</td>\n",
              "      <td>4.0</td>\n",
              "      <td>7.0</td>\n",
              "      <td>300.0</td>\n",
              "      <td>77.0</td>\n",
              "      <td>-1.1</td>\n",
              "      <td>1023.2</td>\n",
              "      <td>-18.2</td>\n",
              "      <td>0.0</td>\n",
              "      <td>N</td>\n",
              "      <td>4.7</td>\n",
              "      <td>Aotizhongxin</td>\n",
              "    </tr>\n",
              "    <tr>\n",
              "      <th>2</th>\n",
              "      <td>3</td>\n",
              "      <td>2013</td>\n",
              "      <td>3</td>\n",
              "      <td>1</td>\n",
              "      <td>2</td>\n",
              "      <td>7.0</td>\n",
              "      <td>7.0</td>\n",
              "      <td>5.0</td>\n",
              "      <td>10.0</td>\n",
              "      <td>300.0</td>\n",
              "      <td>73.0</td>\n",
              "      <td>-1.1</td>\n",
              "      <td>1023.5</td>\n",
              "      <td>-18.2</td>\n",
              "      <td>0.0</td>\n",
              "      <td>NNW</td>\n",
              "      <td>5.6</td>\n",
              "      <td>Aotizhongxin</td>\n",
              "    </tr>\n",
              "    <tr>\n",
              "      <th>3</th>\n",
              "      <td>4</td>\n",
              "      <td>2013</td>\n",
              "      <td>3</td>\n",
              "      <td>1</td>\n",
              "      <td>3</td>\n",
              "      <td>6.0</td>\n",
              "      <td>6.0</td>\n",
              "      <td>11.0</td>\n",
              "      <td>11.0</td>\n",
              "      <td>300.0</td>\n",
              "      <td>72.0</td>\n",
              "      <td>-1.4</td>\n",
              "      <td>1024.5</td>\n",
              "      <td>-19.4</td>\n",
              "      <td>0.0</td>\n",
              "      <td>NW</td>\n",
              "      <td>3.1</td>\n",
              "      <td>Aotizhongxin</td>\n",
              "    </tr>\n",
              "    <tr>\n",
              "      <th>4</th>\n",
              "      <td>5</td>\n",
              "      <td>2013</td>\n",
              "      <td>3</td>\n",
              "      <td>1</td>\n",
              "      <td>4</td>\n",
              "      <td>3.0</td>\n",
              "      <td>3.0</td>\n",
              "      <td>12.0</td>\n",
              "      <td>12.0</td>\n",
              "      <td>300.0</td>\n",
              "      <td>72.0</td>\n",
              "      <td>-2.0</td>\n",
              "      <td>1025.2</td>\n",
              "      <td>-19.5</td>\n",
              "      <td>0.0</td>\n",
              "      <td>N</td>\n",
              "      <td>2.0</td>\n",
              "      <td>Aotizhongxin</td>\n",
              "    </tr>\n",
              "  </tbody>\n",
              "</table>\n",
              "</div>"
            ],
            "text/plain": [
              "   No  year  month  day  hour  ...  DEWP  RAIN   wd  WSPM       station\n",
              "0   1  2013      3    1     0  ... -18.8   0.0  NNW   4.4  Aotizhongxin\n",
              "1   2  2013      3    1     1  ... -18.2   0.0    N   4.7  Aotizhongxin\n",
              "2   3  2013      3    1     2  ... -18.2   0.0  NNW   5.6  Aotizhongxin\n",
              "3   4  2013      3    1     3  ... -19.4   0.0   NW   3.1  Aotizhongxin\n",
              "4   5  2013      3    1     4  ... -19.5   0.0    N   2.0  Aotizhongxin\n",
              "\n",
              "[5 rows x 18 columns]"
            ]
          },
          "metadata": {
            "tags": []
          },
          "execution_count": 22
        }
      ]
    },
    {
      "cell_type": "markdown",
      "metadata": {
        "id": "Y7PKgY9UTLa-"
      },
      "source": [
        "**Using tail function, identifying the last rows of the data frame**"
      ]
    },
    {
      "cell_type": "code",
      "metadata": {
        "id": "a70XSvf7CZKa",
        "outputId": "7634cb2b-60fd-43f7-a931-00315ef6832b",
        "colab": {
          "base_uri": "https://localhost:8080/",
          "height": 204
        }
      },
      "source": [
        "data.tail()"
      ],
      "execution_count": null,
      "outputs": [
        {
          "output_type": "execute_result",
          "data": {
            "text/html": [
              "<div>\n",
              "<style scoped>\n",
              "    .dataframe tbody tr th:only-of-type {\n",
              "        vertical-align: middle;\n",
              "    }\n",
              "\n",
              "    .dataframe tbody tr th {\n",
              "        vertical-align: top;\n",
              "    }\n",
              "\n",
              "    .dataframe thead th {\n",
              "        text-align: right;\n",
              "    }\n",
              "</style>\n",
              "<table border=\"1\" class=\"dataframe\">\n",
              "  <thead>\n",
              "    <tr style=\"text-align: right;\">\n",
              "      <th></th>\n",
              "      <th>No</th>\n",
              "      <th>year</th>\n",
              "      <th>month</th>\n",
              "      <th>day</th>\n",
              "      <th>hour</th>\n",
              "      <th>PM2.5</th>\n",
              "      <th>PM10</th>\n",
              "      <th>SO2</th>\n",
              "      <th>NO2</th>\n",
              "      <th>CO</th>\n",
              "      <th>O3</th>\n",
              "      <th>TEMP</th>\n",
              "      <th>PRES</th>\n",
              "      <th>DEWP</th>\n",
              "      <th>RAIN</th>\n",
              "      <th>wd</th>\n",
              "      <th>WSPM</th>\n",
              "      <th>station</th>\n",
              "    </tr>\n",
              "  </thead>\n",
              "  <tbody>\n",
              "    <tr>\n",
              "      <th>35059</th>\n",
              "      <td>35060</td>\n",
              "      <td>2017</td>\n",
              "      <td>2</td>\n",
              "      <td>28</td>\n",
              "      <td>19</td>\n",
              "      <td>11.0</td>\n",
              "      <td>32.0</td>\n",
              "      <td>3.0</td>\n",
              "      <td>24.0</td>\n",
              "      <td>400.0</td>\n",
              "      <td>72.0</td>\n",
              "      <td>12.5</td>\n",
              "      <td>1013.5</td>\n",
              "      <td>-16.2</td>\n",
              "      <td>0.0</td>\n",
              "      <td>NW</td>\n",
              "      <td>2.4</td>\n",
              "      <td>Wanshouxigong</td>\n",
              "    </tr>\n",
              "    <tr>\n",
              "      <th>35060</th>\n",
              "      <td>35061</td>\n",
              "      <td>2017</td>\n",
              "      <td>2</td>\n",
              "      <td>28</td>\n",
              "      <td>20</td>\n",
              "      <td>13.0</td>\n",
              "      <td>32.0</td>\n",
              "      <td>3.0</td>\n",
              "      <td>41.0</td>\n",
              "      <td>500.0</td>\n",
              "      <td>50.0</td>\n",
              "      <td>11.6</td>\n",
              "      <td>1013.6</td>\n",
              "      <td>-15.1</td>\n",
              "      <td>0.0</td>\n",
              "      <td>WNW</td>\n",
              "      <td>0.9</td>\n",
              "      <td>Wanshouxigong</td>\n",
              "    </tr>\n",
              "    <tr>\n",
              "      <th>35061</th>\n",
              "      <td>35062</td>\n",
              "      <td>2017</td>\n",
              "      <td>2</td>\n",
              "      <td>28</td>\n",
              "      <td>21</td>\n",
              "      <td>14.0</td>\n",
              "      <td>28.0</td>\n",
              "      <td>4.0</td>\n",
              "      <td>38.0</td>\n",
              "      <td>500.0</td>\n",
              "      <td>54.0</td>\n",
              "      <td>10.8</td>\n",
              "      <td>1014.2</td>\n",
              "      <td>-13.3</td>\n",
              "      <td>0.0</td>\n",
              "      <td>NW</td>\n",
              "      <td>1.1</td>\n",
              "      <td>Wanshouxigong</td>\n",
              "    </tr>\n",
              "    <tr>\n",
              "      <th>35062</th>\n",
              "      <td>35063</td>\n",
              "      <td>2017</td>\n",
              "      <td>2</td>\n",
              "      <td>28</td>\n",
              "      <td>22</td>\n",
              "      <td>12.0</td>\n",
              "      <td>23.0</td>\n",
              "      <td>4.0</td>\n",
              "      <td>30.0</td>\n",
              "      <td>400.0</td>\n",
              "      <td>59.0</td>\n",
              "      <td>10.5</td>\n",
              "      <td>1014.4</td>\n",
              "      <td>-12.9</td>\n",
              "      <td>0.0</td>\n",
              "      <td>NNW</td>\n",
              "      <td>1.2</td>\n",
              "      <td>Wanshouxigong</td>\n",
              "    </tr>\n",
              "    <tr>\n",
              "      <th>35063</th>\n",
              "      <td>35064</td>\n",
              "      <td>2017</td>\n",
              "      <td>2</td>\n",
              "      <td>28</td>\n",
              "      <td>23</td>\n",
              "      <td>13.0</td>\n",
              "      <td>19.0</td>\n",
              "      <td>4.0</td>\n",
              "      <td>38.0</td>\n",
              "      <td>600.0</td>\n",
              "      <td>49.0</td>\n",
              "      <td>8.6</td>\n",
              "      <td>1014.1</td>\n",
              "      <td>-15.9</td>\n",
              "      <td>0.0</td>\n",
              "      <td>NNE</td>\n",
              "      <td>1.3</td>\n",
              "      <td>Wanshouxigong</td>\n",
              "    </tr>\n",
              "  </tbody>\n",
              "</table>\n",
              "</div>"
            ],
            "text/plain": [
              "          No  year  month  day  hour  ...  DEWP  RAIN   wd  WSPM        station\n",
              "35059  35060  2017      2   28    19  ... -16.2   0.0   NW   2.4  Wanshouxigong\n",
              "35060  35061  2017      2   28    20  ... -15.1   0.0  WNW   0.9  Wanshouxigong\n",
              "35061  35062  2017      2   28    21  ... -13.3   0.0   NW   1.1  Wanshouxigong\n",
              "35062  35063  2017      2   28    22  ... -12.9   0.0  NNW   1.2  Wanshouxigong\n",
              "35063  35064  2017      2   28    23  ... -15.9   0.0  NNE   1.3  Wanshouxigong\n",
              "\n",
              "[5 rows x 18 columns]"
            ]
          },
          "metadata": {
            "tags": []
          },
          "execution_count": 23
        }
      ]
    },
    {
      "cell_type": "markdown",
      "metadata": {
        "id": "Jo1goeJTTRXS"
      },
      "source": [
        "**Finding Number of Null values in data frame**"
      ]
    },
    {
      "cell_type": "code",
      "metadata": {
        "id": "jEhygnyLCfEs",
        "outputId": "8d076791-26c8-4912-e01d-644b062855f2",
        "colab": {
          "base_uri": "https://localhost:8080/",
          "height": 340
        }
      },
      "source": [
        "data.isna().sum()"
      ],
      "execution_count": null,
      "outputs": [
        {
          "output_type": "execute_result",
          "data": {
            "text/plain": [
              "No             0\n",
              "year           0\n",
              "month          0\n",
              "day            0\n",
              "hour           0\n",
              "PM2.5       8739\n",
              "PM10        6449\n",
              "SO2         9021\n",
              "NO2        12116\n",
              "CO         20701\n",
              "O3         13277\n",
              "TEMP         398\n",
              "PRES         393\n",
              "DEWP         403\n",
              "RAIN         390\n",
              "wd          1822\n",
              "WSPM         318\n",
              "station        0\n",
              "dtype: int64"
            ]
          },
          "metadata": {
            "tags": []
          },
          "execution_count": 24
        }
      ]
    },
    {
      "cell_type": "markdown",
      "metadata": {
        "id": "LtTB9t9NTYIA"
      },
      "source": [
        "**Replacing the null and nan values with median values**"
      ]
    },
    {
      "cell_type": "code",
      "metadata": {
        "id": "qs4Aj9_0P7Zf"
      },
      "source": [
        "data['PM10'].fillna(data['PM10'].median(), inplace=True)\n",
        "data['PM2.5'].fillna(data['PM2.5'].median(), inplace=True)\n",
        "data['SO2'].fillna(data['SO2'].median(), inplace=True)\n",
        "data['CO'].fillna(data['CO'].median(), inplace=True)\n",
        "data['O3'].fillna(data['O3'].median(), inplace=True)"
      ],
      "execution_count": 15,
      "outputs": []
    },
    {
      "cell_type": "markdown",
      "metadata": {
        "id": "t-TfUTYZTk7j"
      },
      "source": [
        "**Renaming the coulmn Names/Labels**\n",
        "\n",
        "**This approach is done for better understanding which improves the readability of the data set.**"
      ]
    },
    {
      "cell_type": "code",
      "metadata": {
        "id": "z4AbB-qCP7lt"
      },
      "source": [
        "data=data.rename(columns ={'wd':'wind_direction','DEWP':'dew_point_temp','TEMP':'temp','RAIN':'rain','WSPM':'wind_speed','PRES':'pressure'})"
      ],
      "execution_count": 16,
      "outputs": []
    }
  ]
}